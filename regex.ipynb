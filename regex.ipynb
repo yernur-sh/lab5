{
 "cells": [
  {
   "cell_type": "markdown",
   "metadata": {},
   "source": [
    "REGEX"
   ]
  },
  {
   "cell_type": "code",
   "execution_count": 2,
   "metadata": {},
   "outputs": [
    {
     "name": "stdout",
     "output_type": "stream",
     "text": [
      "['a', 'a', 'a', 'a', 'a']\n"
     ]
    }
   ],
   "source": [
    "import re\n",
    "text = '/Users/ernrsahar/Desktop/PP2_projects/lab5/row.txt'\n",
    "with open(text, 'r') as file:\n",
    "    string = file.read().strip()\n",
    "pattern = r'ab*'\n",
    "result = re.findall(pattern, string)\n",
    "if result:\n",
    "    print(result)\n",
    "else:\n",
    "    print(\"Not found\")"
   ]
  },
  {
   "cell_type": "code",
   "execution_count": 3,
   "metadata": {},
   "outputs": [
    {
     "name": "stdout",
     "output_type": "stream",
     "text": [
      "Not found\n"
     ]
    }
   ],
   "source": [
    "import re\n",
    "text = '/Users/ernrsahar/Desktop/PP2_projects/lab5/row.txt'\n",
    "with open(text, 'r') as file:\n",
    "    string = file.read().strip()\n",
    "pattern = r'ab[2-3]'\n",
    "result = re.findall(pattern, string)\n",
    "if result:\n",
    "    print(result)\n",
    "else:\n",
    "    print(\"Not found\")"
   ]
  },
  {
   "cell_type": "code",
   "execution_count": 5,
   "metadata": {},
   "outputs": [
    {
     "name": "stdout",
     "output_type": "stream",
     "text": [
      "Not found\n"
     ]
    }
   ],
   "source": [
    "import re\n",
    "text = \"/Users/ernrsahar/Desktop/PP2_projects/lab5/row.txt\"\n",
    "with open(text, 'r') as file:\n",
    "    string = file.read().strip()\n",
    "pattern = \"\\b[a-z]+_[a-z]+\\b\"\n",
    "result = re.findall(pattern, string)\n",
    "if result:\n",
    "    print(result)\n",
    "else:\n",
    "    print(\"Not found\")"
   ]
  },
  {
   "cell_type": "code",
   "execution_count": 6,
   "metadata": {},
   "outputs": [
    {
     "name": "stdout",
     "output_type": "stream",
     "text": [
      "['Bi', 'Vo', 'Me', 'Na', 'Ca', 'Pr', 'Se', 'Pr', 'Se', 'Cl', 'Bi', 'Wo', 'Bi', 'Wo']\n"
     ]
    }
   ],
   "source": [
    "import re\n",
    "text = \"/Users/ernrsahar/Desktop/PP2_projects/lab5/row.txt\"\n",
    "with open(text, \"r\") as file:\n",
    "    string = file.read().strip()\n",
    "pattern = \"[A-Z][a-z]\"\n",
    "result = re.findall(pattern, string)\n",
    "if result:\n",
    "    print(result)\n",
    "else:\n",
    "    print(\"Not found\") "
   ]
  },
  {
   "cell_type": "code",
   "execution_count": 7,
   "metadata": {},
   "outputs": [
    {
     "name": "stdout",
     "output_type": "stream",
     "text": [
      "Not found\n"
     ]
    }
   ],
   "source": [
    "import re\n",
    "text = \"/Users/ernrsahar/Desktop/PP2_projects/lab5/row.txt\"\n",
    "with open(text, \"r\") as file:\n",
    "    string = file.read().strip()\n",
    "pattern = \"^a.*b$\"\n",
    "result = re.findall(pattern, string)\n",
    "if result:\n",
    "    print(result)\n",
    "else:\n",
    "    print(\"Not found\") "
   ]
  },
  {
   "cell_type": "code",
   "execution_count": 16,
   "metadata": {},
   "outputs": [
    {
     "name": "stdout",
     "output_type": "stream",
     "text": [
      "Result: Hi:everyone::GOOD:LUCK\n"
     ]
    }
   ],
   "source": [
    "import re\n",
    "def replace_characters(text):\n",
    "    x = re.sub(r'[ ,.]', \":\", text)\n",
    "    return x\n",
    "input_text = \"Hi everyone, GOOD LUCK\"\n",
    "result = replace_characters(input_text)\n",
    "print(\"Result:\", result)"
   ]
  },
  {
   "cell_type": "code",
   "execution_count": 10,
   "metadata": {},
   "outputs": [
    {
     "name": "stdout",
     "output_type": "stream",
     "text": [
      "Snake case: yernur_boss\n",
      "Camel case: yernurBoss\n"
     ]
    }
   ],
   "source": [
    "def snake_to_camel(snake_str):\n",
    "    parts = snake_str.split('_')\n",
    "    camel_case = parts[0] + ''.join(word.capitalize() for word in parts[1:])\n",
    "    return camel_case\n",
    "snake_string =str(input())\n",
    "camel_string = snake_to_camel(snake_string)\n",
    "print(\"Snake case:\", snake_string)\n",
    "print(\"Camel case:\", camel_string)"
   ]
  },
  {
   "cell_type": "code",
   "execution_count": 11,
   "metadata": {},
   "outputs": [
    {
     "name": "stdout",
     "output_type": "stream",
     "text": [
      "Original string: YrnurJkcimdnecJNN\n",
      "Split parts: ['Yrnur', 'Jkcimdnec', 'J', 'N', 'N']\n"
     ]
    }
   ],
   "source": [
    "import re\n",
    "def split_at_uppercase(s):\n",
    "    parts = re.split(r'(?=[A-Z])', s)\n",
    "    parts = [part for part in parts if part]\n",
    "    return parts\n",
    "input_string =str(input())\n",
    "result = split_at_uppercase(input_string)\n",
    "print(\"Original string:\", input_string)\n",
    "print(\"Split parts:\", result)"
   ]
  },
  {
   "cell_type": "code",
   "execution_count": 12,
   "metadata": {},
   "outputs": [
    {
     "name": "stdout",
     "output_type": "stream",
     "text": [
      "Original: HiperX\n",
      "Modified: Hiper X\n"
     ]
    }
   ],
   "source": [
    "import re\n",
    "def insert_spaces(text):\n",
    "    result = re.sub(r'(?<!^)(?=[A-Z])', ' ', text)\n",
    "    return result\n",
    "input_text = str(input())\n",
    "output_text = insert_spaces(input_text)\n",
    "print(\"Original:\", input_text)\n",
    "print(\"Modified:\", output_text)"
   ]
  },
  {
   "cell_type": "code",
   "execution_count": 14,
   "metadata": {},
   "outputs": [
    {
     "name": "stdout",
     "output_type": "stream",
     "text": [
      "Camel case: DubbleKill\n",
      "Snake case: dubble_kill\n"
     ]
    }
   ],
   "source": [
    "import re\n",
    "def camel_to_snake(camel_str):\n",
    "    snake_str = re.sub(r'(?<=[a-z0-9])([A-Z])', r'_\\1', camel_str)\n",
    "    return snake_str.lower()\n",
    "camel_string = str(input())\n",
    "snake_string = camel_to_snake(camel_string)\n",
    "print(\"Camel case:\", camel_string)\n",
    "print(\"Snake case:\", snake_string)"
   ]
  }
 ],
 "metadata": {
  "kernelspec": {
   "display_name": "Python 3",
   "language": "python",
   "name": "python3"
  },
  "language_info": {
   "codemirror_mode": {
    "name": "ipython",
    "version": 3
   },
   "file_extension": ".py",
   "mimetype": "text/x-python",
   "name": "python",
   "nbconvert_exporter": "python",
   "pygments_lexer": "ipython3",
   "version": "3.13.0"
  }
 },
 "nbformat": 4,
 "nbformat_minor": 2
}
